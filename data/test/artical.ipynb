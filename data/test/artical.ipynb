{
 "cells": [
  {
   "cell_type": "code",
   "execution_count": 9,
   "metadata": {},
   "outputs": [
    {
     "ename": "AssertionError",
     "evalue": "Please, be nice to Wikipedia and specify user agent - https://meta.wikimedia.org/wiki/User-Agent_policy. Current user_agent: 'en' is not sufficient.",
     "output_type": "error",
     "traceback": [
      "\u001b[1;31m---------------------------------------------------------------------------\u001b[0m",
      "\u001b[1;31mAssertionError\u001b[0m                            Traceback (most recent call last)",
      "Cell \u001b[1;32mIn[9], line 3\u001b[0m\n\u001b[0;32m      1\u001b[0m \u001b[38;5;28;01mimport\u001b[39;00m \u001b[38;5;21;01mwikipedia\u001b[39;00m \u001b[38;5;28;01mas\u001b[39;00m \u001b[38;5;21;01mwiki\u001b[39;00m\n\u001b[0;32m      2\u001b[0m \u001b[38;5;28;01mimport\u001b[39;00m \u001b[38;5;21;01mwikipediaapi\u001b[39;00m\n\u001b[1;32m----> 3\u001b[0m wiki \u001b[38;5;241m=\u001b[39m \u001b[43mwikipediaapi\u001b[49m\u001b[38;5;241;43m.\u001b[39;49m\u001b[43mWikipedia\u001b[49m\u001b[43m(\u001b[49m\u001b[38;5;124;43m'\u001b[39;49m\u001b[38;5;124;43men\u001b[39;49m\u001b[38;5;124;43m'\u001b[39;49m\u001b[43m)\u001b[49m\n\u001b[0;32m      4\u001b[0m keywords \u001b[38;5;241m=\u001b[39m [\u001b[38;5;124m\"\u001b[39m\u001b[38;5;124mThailand\u001b[39m\u001b[38;5;124m\"\u001b[39m]\n\u001b[0;32m      5\u001b[0m selected_articles \u001b[38;5;241m=\u001b[39m []\n",
      "File \u001b[1;32mc:\\Users\\Sreylen\\miniconda3\\envs\\lenenv\\Lib\\site-packages\\wikipediaapi\\__init__.py:167\u001b[0m, in \u001b[0;36mWikipedia.__init__\u001b[1;34m(self, user_agent, language, extract_format, headers, **kwargs)\u001b[0m\n\u001b[0;32m    165\u001b[0m used_user_agent \u001b[38;5;241m=\u001b[39m default_headers\u001b[38;5;241m.\u001b[39mget(\u001b[38;5;124m\"\u001b[39m\u001b[38;5;124mUser-Agent\u001b[39m\u001b[38;5;124m\"\u001b[39m)\n\u001b[0;32m    166\u001b[0m \u001b[38;5;28;01mif\u001b[39;00m \u001b[38;5;129;01mnot\u001b[39;00m (used_user_agent \u001b[38;5;129;01mand\u001b[39;00m \u001b[38;5;28mlen\u001b[39m(used_user_agent) \u001b[38;5;241m>\u001b[39m \u001b[38;5;241m5\u001b[39m):\n\u001b[1;32m--> 167\u001b[0m     \u001b[38;5;28;01mraise\u001b[39;00m \u001b[38;5;167;01mAssertionError\u001b[39;00m(\n\u001b[0;32m    168\u001b[0m         \u001b[38;5;124m\"\u001b[39m\u001b[38;5;124mPlease, be nice to Wikipedia and specify user agent - \u001b[39m\u001b[38;5;124m\"\u001b[39m\n\u001b[0;32m    169\u001b[0m         \u001b[38;5;241m+\u001b[39m \u001b[38;5;124m\"\u001b[39m\u001b[38;5;124mhttps://meta.wikimedia.org/wiki/User-Agent_policy. Current user_agent: \u001b[39m\u001b[38;5;124m'\u001b[39m\u001b[38;5;124m\"\u001b[39m\n\u001b[0;32m    170\u001b[0m         \u001b[38;5;241m+\u001b[39m \u001b[38;5;28mstr\u001b[39m(used_user_agent)\n\u001b[0;32m    171\u001b[0m         \u001b[38;5;241m+\u001b[39m \u001b[38;5;124m\"\u001b[39m\u001b[38;5;124m'\u001b[39m\u001b[38;5;124m is not sufficient.\u001b[39m\u001b[38;5;124m\"\u001b[39m\n\u001b[0;32m    172\u001b[0m     )\n\u001b[0;32m    173\u001b[0m default_headers[\u001b[38;5;124m\"\u001b[39m\u001b[38;5;124mUser-Agent\u001b[39m\u001b[38;5;124m\"\u001b[39m] \u001b[38;5;241m+\u001b[39m\u001b[38;5;241m=\u001b[39m \u001b[38;5;124m\"\u001b[39m\u001b[38;5;124m (\u001b[39m\u001b[38;5;124m\"\u001b[39m \u001b[38;5;241m+\u001b[39m USER_AGENT \u001b[38;5;241m+\u001b[39m \u001b[38;5;124m\"\u001b[39m\u001b[38;5;124m)\u001b[39m\u001b[38;5;124m\"\u001b[39m\n\u001b[0;32m    175\u001b[0m \u001b[38;5;28mself\u001b[39m\u001b[38;5;241m.\u001b[39mlanguage \u001b[38;5;241m=\u001b[39m language\u001b[38;5;241m.\u001b[39mstrip()\u001b[38;5;241m.\u001b[39mlower()\n",
      "\u001b[1;31mAssertionError\u001b[0m: Please, be nice to Wikipedia and specify user agent - https://meta.wikimedia.org/wiki/User-Agent_policy. Current user_agent: 'en' is not sufficient."
     ]
    }
   ],
   "source": [
    "import wikipedia as wiki\n",
    "import wikipediaapi\n",
    "wiki = wikipediaapi.Wikipedia('en')\n",
    "keywords = [\"Thailand\"]\n",
    "selected_articles = []\n",
    "# Fetch articles\n",
    "for keyword in keywords:\n",
    "    page = wiki.page(keyword)\n",
    "    if page.exists():  # Check if the page exists\n",
    "        selected_articles.append(page.text)  # Append the article text\n",
    "\n",
    "# Print the first 500 characters of the first article\n",
    "if selected_articles:\n",
    "    print(selected_articles[0][:500])\n",
    "else:\n",
    "    print(\"No articles found.\")\n"
   ]
  },
  {
   "cell_type": "code",
   "execution_count": 6,
   "metadata": {},
   "outputs": [
    {
     "name": "stdout",
     "output_type": "stream",
     "text": [
      "Cambodia, officially the Kingdom of Cambodia, is a country in Mainland Southeast Asia. It borders Thailand to the northwest, Laos to the north, Vietnam to the east, and has a coastline along the Gulf of Thailand in the southwest. It spans an area of 181,035 square kilometres (69,898 square miles), and has a population of about 17 million. Its capital and most populous city is Phnom Penh.\n",
      "In 802 AD, Jayavarman II declared himself king, uniting the warring Khmer princes of Chenla under the name \"Kambuja\". This marked the beginning of the Khmer Empire. The Indianised kingdom facilitated the spread of first Hinduism and then Buddhism to Southeast Asia and undertook religious infrastructural projects throughout the region. In the 15th century, it began a decline in power (the Post-Angkor Period) until, in 1863, it became the French Protectorate of Cambodia.\n",
      "After the Japanese occupation of Cambodia during the Second World War, it gained independence in 1953. The Vietnam War extended into the country in 1965 via the Ho Chi Minh and Sihanouk trails.\n"
     ]
    }
   ],
   "source": [
    "# importing the module\n",
    "import wikipedia \n",
    " \n",
    "# finding result for the search\n",
    "# sentences = 2 refers to numbers of line\n",
    "result = wikipedia.summary(\"Cambodia\", sentences = 1000) \n",
    "# printing the result\n",
    "f = open(\"data/Cambodia.txt\",\"w\")\n",
    "print(result) "
   ]
  }
 ],
 "metadata": {
  "kernelspec": {
   "display_name": "Python 3",
   "language": "python",
   "name": "python3"
  },
  "language_info": {
   "codemirror_mode": {
    "name": "ipython",
    "version": 3
   },
   "file_extension": ".py",
   "mimetype": "text/x-python",
   "name": "python",
   "nbconvert_exporter": "python",
   "pygments_lexer": "ipython3",
   "version": "3.12.4"
  }
 },
 "nbformat": 4,
 "nbformat_minor": 2
}
