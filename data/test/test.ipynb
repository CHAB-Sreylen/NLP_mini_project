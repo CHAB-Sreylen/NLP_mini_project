{
 "cells": [
  {
   "cell_type": "code",
   "execution_count": 1,
   "metadata": {},
   "outputs": [
    {
     "name": "stdout",
     "output_type": "stream",
     "text": [
      "['This', 'is', 'a', 'sample', 'sentence', 'from', 'the', 'book.', 'This', 'sentence', 'contains', 'words.']\n"
     ]
    }
   ],
   "source": [
    "text = \"\"\"This is a sample sentence from the book. This sentence contains words.\"\"\"\n",
    "tokens = text.split()  # Simple tokenization by spaces\n",
    "print(tokens)"
   ]
  },
  {
   "cell_type": "code",
   "execution_count": null,
   "metadata": {},
   "outputs": [
    {
     "name": "stdout",
     "output_type": "stream",
     "text": [
      "['This', 'is', 'a', 'sample', 'sentence', 'from', 'the', 'book.', 'This', 'sentence', 'contains', 'words.']\n",
      "['This', 'sentence', 'is', 'a', 'sample', '<UNK>']\n"
     ]
    }
   ],
   "source": [
    "corpus = tokens\n",
    "print(corpus)\n",
    "from collections import Counter\n",
    "word_counts = Counter(corpus)\n",
    "vocab_size = 5\n",
    "vocab = [word for word, _ in word_counts.most_common(vocab_size)]  # Select top words\n",
    "\n",
    "# Add the <UNK> token to the vocabulary\n",
    "vocab.append(\"<UNK>\")\n",
    "print(vocab)"
   ]
  },
  {
   "cell_type": "code",
   "execution_count": 5,
   "metadata": {},
   "outputs": [
    {
     "name": "stdout",
     "output_type": "stream",
     "text": [
      "['This', 'is', 'a', 'sample', 'sentence', '<UNK>', '<UNK>', '<UNK>', '<UNK>', '<UNK>', '<UNK>', '<UNK>']\n"
     ]
    }
   ],
   "source": [
    "def tokenize_and_replace_oov(text, vocab):\n",
    "    tokens = text.split()  # Tokenize by spaces\n",
    "    return [token if token in vocab else \"<UNK>\" for token in tokens]\n",
    "\n",
    "# Sample text (book text)\n",
    "book_text = \"This is a sample sentence from the book. Some new words here.\"\n",
    "\n",
    "# Tokenize and replace OOV words with <UNK>\n",
    "processed_text = tokenize_and_replace_oov(book_text, vocab)\n",
    "\n",
    "print(processed_text)\n",
    "# Output: ['This', 'is', 'a', 'sample', 'sentence', 'from', 'the', '<UNK>', '<UNK>', 'words', '<UNK>']\n"
   ]
  },
  {
   "cell_type": "code",
   "execution_count": 6,
   "metadata": {},
   "outputs": [
    {
     "name": "stdout",
     "output_type": "stream",
     "text": [
      "['This', 'is', 'a', 'sample', 'sentence', '<UNK>', '<UNK>', '<UNK>', '<UNK>', '<UNK>', '<UNK>', '<UNK>']\n"
     ]
    }
   ],
   "source": [
    "def tokenize_and_replace_oov(text, vocab):\n",
    "    tokens = text.split()  # Tokenize by spaces\n",
    "    return [token if token in vocab else \"<UNK>\" for token in tokens]\n",
    "\n",
    "# Sample text (book text)\n",
    "book_text = \"This is a sample sentence from the book. Some new words here.\"\n",
    "\n",
    "# Tokenize and replace OOV words with <UNK>\n",
    "processed_text = tokenize_and_replace_oov(book_text, vocab)\n",
    "\n",
    "print(processed_text)\n",
    "# Output: ['This', 'is', 'a', 'sample', 'sentence', 'from', 'the', '<UNK>', '<UNK>', 'words', '<UNK>']\n"
   ]
  },
  {
   "cell_type": "code",
   "execution_count": 7,
   "metadata": {},
   "outputs": [
    {
     "name": "stdout",
     "output_type": "stream",
     "text": [
      "Number of UNK words: 91\n"
     ]
    }
   ],
   "source": [
    "from collections import Counter\n",
    "from itertools import chain\n",
    "\n",
    "# Sample predefined vocabulary (for example purposes)\n",
    "known_words = set(['you', 'always', 'were', 'my', 'docile', 'daughter', \n",
    "                   'let', 'marmee', 'think', 'we', 'are', 'getting', 'things', \n",
    "                   'for', 'ourselves', 'and', 'then', 'surprise', 'her'])\n",
    "\n",
    "# Flatten the train_tokens list\n",
    "flattened_tokens = list(chain.from_iterable(known_words))\n",
    "\n",
    "# Count all words\n",
    "word_counts = Counter(flattened_tokens)\n",
    "\n",
    "# Count \"UNK\" words (words not in known_words)\n",
    "unk_count = sum(1 for word in flattened_tokens if word not in known_words)\n",
    "\n",
    "print(f\"Number of UNK words: {unk_count}\")\n"
   ]
  },
  {
   "cell_type": "code",
   "execution_count": null,
   "metadata": {},
   "outputs": [],
   "source": [
    "import pandas as pd\n",
    "from collections import Counter\n",
    "from nltk.tokenize import word_tokenize\n",
    "\n",
    "# Example corpus\n",
    "corpus = \"\"\"The cat sat on the mat. The cat is playful and cute.\"\"\"\n",
    "\n",
    "# Tokenize th corpuse\n",
    "tokens = word_tokenize(corpus.lower())  # Convert to lowercase for consistency\n",
    "print(tokens)\n",
    "# Count word occurrences\n",
    "word_counts = Counter(tokens)\n",
    "\n",
    "# Convert to DataFrame\n",
    "df = pd.DataFrame(word_counts.items(), columns=['Word', 'Frequency'])\n",
    "\n",
    "# Sort by frequency (optional)\n",
    "df = df.sort_values(by='Frequency', ascending=False).reset_index(drop=True)\n",
    "\n",
    "# Display the DataFrame\n",
    "print(df)"
   ]
  },
  {
   "cell_type": "code",
   "execution_count": null,
   "metadata": {},
   "outputs": [],
   "source": [
    "import re\n",
    "with open('data/plaintext.txt','r',encoding='utf-8') as file:\n",
    "     text =  file.read()\n",
    "# Example of text cleaning\n",
    "def clean_text(text):\n",
    "    text = re.sub(r'http[s]?://\\S+', '', text)\n",
    "    text = re.sub(r'[^a-zA-Z.]', ' ', text)   \n",
    "    text = re.sub(r'\\s+', ' ', text) \n",
    "    text = text.strip()\n",
    "    # text = re.sub(r'[^\\w\\s.]', '', text)  # Remove punctuation\n",
    "    return text.lower()\n",
    "cleaned_text = clean_text(text)\n",
    "print(cleaned_text[:1000])"
   ]
  }
 ],
 "metadata": {
  "kernelspec": {
   "display_name": "Python 3",
   "language": "python",
   "name": "python3"
  },
  "language_info": {
   "codemirror_mode": {
    "name": "ipython",
    "version": 3
   },
   "file_extension": ".py",
   "mimetype": "text/x-python",
   "name": "python",
   "nbconvert_exporter": "python",
   "pygments_lexer": "ipython3",
   "version": "3.12.4"
  }
 },
 "nbformat": 4,
 "nbformat_minor": 2
}
