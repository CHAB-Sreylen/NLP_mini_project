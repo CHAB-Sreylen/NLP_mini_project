{
 "cells": [
  {
   "cell_type": "code",
   "execution_count": 13,
   "metadata": {},
   "outputs": [
    {
     "name": "stdout",
     "output_type": "stream",
     "text": [
      "the project gutenberg ebook of little women this ebook is for the use of anyone anywhere in the united states and most other parts of the world at no cost and with almost no restrictions whatsoever. you may copy it give it away or re use it under the terms of the project gutenberg license included with this ebook or online at www.gutenberg.org. if you are not located in the united states you will have to check the laws of the country where you are located before using this ebook. title little women author louisa may alcott release date may ebook most recently updated november language english start of the project gutenberg ebook little women little women by louisa may alcott contents part chapter one playing pilgrims chapter two a merry christmas chapter three the laurence boy chapter four burdens chapter five being neighborly chapter six beth finds the palace beautiful chapter seven amy s valley of humiliation chapter eight jo meets apollyon chapter nine meg goes to vanity fair chapte\n"
     ]
    }
   ],
   "source": [
    "import re\n",
    "with open('data/plaintext.txt','r',encoding='utf-8') as file:\n",
    "     text =  file.read()\n",
    "# Example of text cleaning\n",
    "def clean_text(text):\n",
    "    text = re.sub(r'http[s]?://\\S+', '', text)\n",
    "    text = re.sub(r'[^a-zA-Z.]', ' ', text)   \n",
    "    text = re.sub(r'\\s+', ' ', text) \n",
    "    text = text.strip()\n",
    "    # text = re.sub(r'[^\\w\\s.]', '', text)  # Remove punctuation\n",
    "    return text.lower()\n",
    "cleaned_text = clean_text(text)\n",
    "print(cleaned_text[:1000])"
   ]
  },
  {
   "cell_type": "code",
   "execution_count": null,
   "metadata": {},
   "outputs": [
    {
     "name": "stdout",
     "output_type": "stream",
     "text": [
      "this ebook is for the use of anyone anywhere in the united states and most other parts of the world at no cost and with almost no restrictions whatsoever. you may copy it give it away or re use it under the terms of the project gutenberg license included with this ebook or online at www.gutenberg.org. if you are not located in the united states you will have to check the laws of the country where you are located before using this ebook. title little women author louisa may alcott release date may ebook most recently updated november language english\n"
     ]
    }
   ],
   "source": [
    "\n"
   ]
  },
  {
   "cell_type": "code",
   "execution_count": null,
   "metadata": {},
   "outputs": [
    {
     "name": "stdout",
     "output_type": "stream",
     "text": [
      "this ebook is for the use of anyone anywhere in the united states and most other parts of the world at no cost and with almost no restrictions whatsoever. you may copy it give it away or re use it under the terms of the project gutenberg license included with this ebook or online at www.gutenberg.org. if you are not located in the united states you will have to check the laws of the country where you are located before using this ebook. title little women author louisa may alcott release date may ebook most recently updated november language english\n"
     ]
    }
   ],
   "source": [
    "import re\n",
    "\n",
    "# Read the text file\n",
    "with open('data/plaintext.txt', 'r', encoding='utf-8') as file:\n",
    "    text = file.read()\n",
    "\n",
    "# Example of text cleaning\n",
    "def clean_text(text):\n",
    "    # Remove the header and the footer\n",
    "    text = re.sub(r'\\*\\*\\* START OF THE PROJECT GUTENBERG EBOOK.*', '', text, flags=re.DOTALL)\n",
    "    text = re.sub(r'\\*\\*\\* END OF THE PROJECT GUTENBERG EBOOK.*', '', text, flags=re.DOTALL)\n",
    "    \n",
    "    # Remove URLs (http:// or https:// followed by any characters)\n",
    "    text = re.sub(r'http[s]?://\\S+', '', text)\n",
    "    \n",
    "    # Remove everything except letters and periods\n",
    "    text = re.sub(r'[^a-zA-Z.]', ' ', text)\n",
    "    \n",
    "    # Remove extra spaces\n",
    "    text = re.sub(r'\\s+', ' ', text)\n",
    "    \n",
    "    # Remove leading/trailing spaces\n",
    "    text = text.strip()\n",
    "    \n",
    "    # Convert to lowercase\n",
    "    return text.lower()\n",
    "\n",
    "# Clean the text\n",
    "cleaned_text = clean_text(text)\n",
    "\n",
    "# Split the cleaned text into words\n",
    "words = cleaned_text.split()\n",
    "\n",
    "# Get the last 100 words\n",
    "last_100_words = ' '.join(words[-100:])\n",
    "\n",
    "# Print the last 100 words\n",
    "print(last_100_words)\n",
    "print(clea)\n"
   ]
  }
 ],
 "metadata": {
  "kernelspec": {
   "display_name": "Python 3",
   "language": "python",
   "name": "python3"
  },
  "language_info": {
   "codemirror_mode": {
    "name": "ipython",
    "version": 3
   },
   "file_extension": ".py",
   "mimetype": "text/x-python",
   "name": "python",
   "nbconvert_exporter": "python",
   "pygments_lexer": "ipython3",
   "version": "3.12.4"
  }
 },
 "nbformat": 4,
 "nbformat_minor": 2
}
