{
 "cells": [
  {
   "cell_type": "code",
   "execution_count": 1,
   "metadata": {},
   "outputs": [],
   "source": [
    "import re\n",
    "\n",
    "def clean_wikipedia_text(text):\n",
    "    # Remove citations like [1], [2][3], [citation needed]\n",
    "    text = re.sub(r'\\[[^\\]]+\\]', '', text)\n",
    "    \n",
    "    # Remove URLs\n",
    "    text = re.sub(r'http[s]?://\\S+', '', text)\n",
    "    \n",
    "    # Remove parenthetical information\n",
    "    text = re.sub(r'\\([^)]*\\)', '', text)\n",
    "    \n",
    "    # Remove special formatting (e.g., ''italic'' or '''bold''')\n",
    "    text = re.sub(r\"''+|\\<.*?\\>\", '', text)\n",
    "    \n",
    "    # Remove extra whitespace\n",
    "    text = re.sub(r'\\s+', ' ', text).strip()\n",
    "    \n",
    "    # Remove lines starting with special characters (-, *, digits)\n",
    "    text = '\\n'.join(line for line in text.split('\\n') if not line.strip().startswith(('-', '*', '1.')))\n",
    "    \n",
    "    return text\n",
    "\n",
    "# Load text and clean\n",
    "with open('data/wiki_dataset.txt', 'r', encoding='utf-8') as file:\n",
    "    raw_text = file.read()\n",
    "\n",
    "cleaned_text = clean_wikipedia_text(raw_text)\n",
    "\n",
    "# Save cleaned text\n",
    "with open('data/cleaned_wiki_text.txt', 'w', encoding='utf-8') as file:\n",
    "    file.write(cleaned_text)"
   ]
  }
 ],
 "metadata": {
  "kernelspec": {
   "display_name": "Python 3",
   "language": "python",
   "name": "python3"
  },
  "language_info": {
   "codemirror_mode": {
    "name": "ipython",
    "version": 3
   },
   "file_extension": ".py",
   "mimetype": "text/x-python",
   "name": "python",
   "nbconvert_exporter": "python",
   "pygments_lexer": "ipython3",
   "version": "3.12.4"
  }
 },
 "nbformat": 4,
 "nbformat_minor": 2
}
